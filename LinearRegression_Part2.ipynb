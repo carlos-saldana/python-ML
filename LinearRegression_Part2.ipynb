{
 "cells": [
  {
   "cell_type": "markdown",
   "id": "cfc6ff4c",
   "metadata": {},
   "source": [
    "### Dataset para el conjunto de entrenamiento y testing"
   ]
  },
  {
   "cell_type": "code",
   "execution_count": 84,
   "id": "d454a3bf",
   "metadata": {},
   "outputs": [],
   "source": [
    "#----- Incluímos las librerías a emplear -----\n",
    "import numpy as np\n",
    "import pandas as pd\n",
    "import matplotlib.pyplot as plt"
   ]
  },
  {
   "cell_type": "code",
   "execution_count": 85,
   "id": "335547f0",
   "metadata": {},
   "outputs": [
    {
     "data": {
      "text/html": [
       "<div>\n",
       "<style scoped>\n",
       "    .dataframe tbody tr th:only-of-type {\n",
       "        vertical-align: middle;\n",
       "    }\n",
       "\n",
       "    .dataframe tbody tr th {\n",
       "        vertical-align: top;\n",
       "    }\n",
       "\n",
       "    .dataframe thead th {\n",
       "        text-align: right;\n",
       "    }\n",
       "</style>\n",
       "<table border=\"1\" class=\"dataframe\">\n",
       "  <thead>\n",
       "    <tr style=\"text-align: right;\">\n",
       "      <th></th>\n",
       "      <th>TV</th>\n",
       "      <th>Radio</th>\n",
       "      <th>Newspaper</th>\n",
       "      <th>Sales</th>\n",
       "    </tr>\n",
       "  </thead>\n",
       "  <tbody>\n",
       "    <tr>\n",
       "      <th>0</th>\n",
       "      <td>230.1</td>\n",
       "      <td>37.8</td>\n",
       "      <td>69.2</td>\n",
       "      <td>22.1</td>\n",
       "    </tr>\n",
       "    <tr>\n",
       "      <th>1</th>\n",
       "      <td>44.5</td>\n",
       "      <td>39.3</td>\n",
       "      <td>45.1</td>\n",
       "      <td>10.4</td>\n",
       "    </tr>\n",
       "    <tr>\n",
       "      <th>2</th>\n",
       "      <td>17.2</td>\n",
       "      <td>45.9</td>\n",
       "      <td>69.3</td>\n",
       "      <td>9.3</td>\n",
       "    </tr>\n",
       "    <tr>\n",
       "      <th>3</th>\n",
       "      <td>151.5</td>\n",
       "      <td>41.3</td>\n",
       "      <td>58.5</td>\n",
       "      <td>18.5</td>\n",
       "    </tr>\n",
       "    <tr>\n",
       "      <th>4</th>\n",
       "      <td>180.8</td>\n",
       "      <td>10.8</td>\n",
       "      <td>58.4</td>\n",
       "      <td>12.9</td>\n",
       "    </tr>\n",
       "    <tr>\n",
       "      <th>5</th>\n",
       "      <td>8.7</td>\n",
       "      <td>48.9</td>\n",
       "      <td>75.0</td>\n",
       "      <td>7.2</td>\n",
       "    </tr>\n",
       "    <tr>\n",
       "      <th>6</th>\n",
       "      <td>57.5</td>\n",
       "      <td>32.8</td>\n",
       "      <td>23.5</td>\n",
       "      <td>11.8</td>\n",
       "    </tr>\n",
       "    <tr>\n",
       "      <th>7</th>\n",
       "      <td>120.2</td>\n",
       "      <td>19.6</td>\n",
       "      <td>11.6</td>\n",
       "      <td>13.2</td>\n",
       "    </tr>\n",
       "    <tr>\n",
       "      <th>8</th>\n",
       "      <td>8.6</td>\n",
       "      <td>2.1</td>\n",
       "      <td>1.0</td>\n",
       "      <td>4.8</td>\n",
       "    </tr>\n",
       "    <tr>\n",
       "      <th>9</th>\n",
       "      <td>199.8</td>\n",
       "      <td>2.6</td>\n",
       "      <td>21.2</td>\n",
       "      <td>10.6</td>\n",
       "    </tr>\n",
       "    <tr>\n",
       "      <th>10</th>\n",
       "      <td>66.1</td>\n",
       "      <td>5.8</td>\n",
       "      <td>24.2</td>\n",
       "      <td>8.6</td>\n",
       "    </tr>\n",
       "    <tr>\n",
       "      <th>11</th>\n",
       "      <td>214.7</td>\n",
       "      <td>24.0</td>\n",
       "      <td>4.0</td>\n",
       "      <td>17.4</td>\n",
       "    </tr>\n",
       "    <tr>\n",
       "      <th>12</th>\n",
       "      <td>23.8</td>\n",
       "      <td>35.1</td>\n",
       "      <td>65.9</td>\n",
       "      <td>9.2</td>\n",
       "    </tr>\n",
       "    <tr>\n",
       "      <th>13</th>\n",
       "      <td>97.5</td>\n",
       "      <td>7.6</td>\n",
       "      <td>7.2</td>\n",
       "      <td>9.7</td>\n",
       "    </tr>\n",
       "    <tr>\n",
       "      <th>14</th>\n",
       "      <td>204.1</td>\n",
       "      <td>32.9</td>\n",
       "      <td>46.0</td>\n",
       "      <td>19.0</td>\n",
       "    </tr>\n",
       "    <tr>\n",
       "      <th>15</th>\n",
       "      <td>195.4</td>\n",
       "      <td>47.7</td>\n",
       "      <td>52.9</td>\n",
       "      <td>22.4</td>\n",
       "    </tr>\n",
       "    <tr>\n",
       "      <th>16</th>\n",
       "      <td>67.8</td>\n",
       "      <td>36.6</td>\n",
       "      <td>114.0</td>\n",
       "      <td>12.5</td>\n",
       "    </tr>\n",
       "    <tr>\n",
       "      <th>17</th>\n",
       "      <td>281.4</td>\n",
       "      <td>39.6</td>\n",
       "      <td>55.8</td>\n",
       "      <td>24.4</td>\n",
       "    </tr>\n",
       "    <tr>\n",
       "      <th>18</th>\n",
       "      <td>69.2</td>\n",
       "      <td>20.5</td>\n",
       "      <td>18.3</td>\n",
       "      <td>11.3</td>\n",
       "    </tr>\n",
       "    <tr>\n",
       "      <th>19</th>\n",
       "      <td>147.3</td>\n",
       "      <td>23.9</td>\n",
       "      <td>19.1</td>\n",
       "      <td>14.6</td>\n",
       "    </tr>\n",
       "  </tbody>\n",
       "</table>\n",
       "</div>"
      ],
      "text/plain": [
       "       TV  Radio  Newspaper  Sales\n",
       "0   230.1   37.8       69.2   22.1\n",
       "1    44.5   39.3       45.1   10.4\n",
       "2    17.2   45.9       69.3    9.3\n",
       "3   151.5   41.3       58.5   18.5\n",
       "4   180.8   10.8       58.4   12.9\n",
       "5     8.7   48.9       75.0    7.2\n",
       "6    57.5   32.8       23.5   11.8\n",
       "7   120.2   19.6       11.6   13.2\n",
       "8     8.6    2.1        1.0    4.8\n",
       "9   199.8    2.6       21.2   10.6\n",
       "10   66.1    5.8       24.2    8.6\n",
       "11  214.7   24.0        4.0   17.4\n",
       "12   23.8   35.1       65.9    9.2\n",
       "13   97.5    7.6        7.2    9.7\n",
       "14  204.1   32.9       46.0   19.0\n",
       "15  195.4   47.7       52.9   22.4\n",
       "16   67.8   36.6      114.0   12.5\n",
       "17  281.4   39.6       55.8   24.4\n",
       "18   69.2   20.5       18.3   11.3\n",
       "19  147.3   23.9       19.1   14.6"
      ]
     },
     "execution_count": 85,
     "metadata": {},
     "output_type": "execute_result"
    }
   ],
   "source": [
    "#----- Cargamos y visualizamos el dataframe -----\n",
    "data = pd.read_csv(r\"D:\\Curso-Jupyter-Notebook\\MachineLearning\\datasets\\Advertising.csv\")\n",
    "data.head(20)"
   ]
  },
  {
   "cell_type": "code",
   "execution_count": 86,
   "id": "0217a1b1",
   "metadata": {},
   "outputs": [
    {
     "data": {
      "text/plain": [
       "(array([ 1.,  3.,  3., 12., 27., 42., 51., 36., 15., 10.]),\n",
       " array([-3.50038499, -2.92576379, -2.35114259, -1.77652139, -1.20190019,\n",
       "        -0.62727898, -0.05265778,  0.52196342,  1.09658462,  1.67120583,\n",
       "         2.24582703]),\n",
       " <BarContainer object of 10 artists>)"
      ]
     },
     "execution_count": 86,
     "metadata": {},
     "output_type": "execute_result"
    },
    {
     "data": {
      "image/png": "[encoded data removed]",
      "text/plain": [
       "<Figure size 432x288 with 1 Axes>"
      ]
     },
     "metadata": {
      "needs_background": "light"
     },
     "output_type": "display_data"
    }
   ],
   "source": [
    "# Distribución uniforme\n",
    "a = np.random.randn(len(data))\n",
    "plt.hist(a) # Graficamos un histograma"
   ]
  },
  {
   "cell_type": "code",
   "execution_count": 87,
   "id": "df882cbb",
   "metadata": {},
   "outputs": [
    {
     "data": {
      "text/plain": [
       "(152, 48)"
      ]
     },
     "execution_count": 87,
     "metadata": {},
     "output_type": "execute_result"
    }
   ],
   "source": [
    "# División del dataset\n",
    "check = (a<0.7) # 70% de elementos\n",
    "training = data[check] # 70%\n",
    "testing = data[~check] # 30%\n",
    "\n",
    "# Tamaño de nuestros datasets de entrenamiento y testing\n",
    "len(training), len(testing)"
   ]
  },
  {
   "cell_type": "code",
   "execution_count": 88,
   "id": "8d9a1bea",
   "metadata": {},
   "outputs": [],
   "source": [
    "# Agregamos el modelo de regresión lineal\n",
    "import statsmodels.formula.api as smf\n",
    "# Creamos nuestro modelo de regresión lineal\n",
    "lm = smf.ols(formula = \"Sales~TV+Radio\", data = training).fit()"
   ]
  },
  {
   "cell_type": "code",
   "execution_count": 89,
   "id": "16887fdb",
   "metadata": {},
   "outputs": [
    {
     "data": {
      "text/html": [
       "<table class=\"simpletable\">\n",
       "<caption>OLS Regression Results</caption>\n",
       "<tr>\n",
       "  <th>Dep. Variable:</th>          <td>Sales</td>      <th>  R-squared:         </th> <td>   0.890</td>\n",
       "</tr>\n",
       "<tr>\n",
       "  <th>Model:</th>                   <td>OLS</td>       <th>  Adj. R-squared:    </th> <td>   0.889</td>\n",
       "</tr>\n",
       "<tr>\n",
       "  <th>Method:</th>             <td>Least Squares</td>  <th>  F-statistic:       </th> <td>   603.9</td>\n",
       "</tr>\n",
       "<tr>\n",
       "  <th>Date:</th>             <td>Sun, 02 Jan 2022</td> <th>  Prob (F-statistic):</th> <td>3.37e-72</td>\n",
       "</tr>\n",
       "<tr>\n",
       "  <th>Time:</th>                 <td>03:05:16</td>     <th>  Log-Likelihood:    </th> <td> -297.19</td>\n",
       "</tr>\n",
       "<tr>\n",
       "  <th>No. Observations:</th>      <td>   152</td>      <th>  AIC:               </th> <td>   600.4</td>\n",
       "</tr>\n",
       "<tr>\n",
       "  <th>Df Residuals:</th>          <td>   149</td>      <th>  BIC:               </th> <td>   609.5</td>\n",
       "</tr>\n",
       "<tr>\n",
       "  <th>Df Model:</th>              <td>     2</td>      <th>                     </th>     <td> </td>   \n",
       "</tr>\n",
       "<tr>\n",
       "  <th>Covariance Type:</th>      <td>nonrobust</td>    <th>                     </th>     <td> </td>   \n",
       "</tr>\n",
       "</table>\n",
       "<table class=\"simpletable\">\n",
       "<tr>\n",
       "      <td></td>         <th>coef</th>     <th>std err</th>      <th>t</th>      <th>P>|t|</th>  <th>[0.025</th>    <th>0.975]</th>  \n",
       "</tr>\n",
       "<tr>\n",
       "  <th>Intercept</th> <td>    3.1971</td> <td>    0.339</td> <td>    9.422</td> <td> 0.000</td> <td>    2.527</td> <td>    3.868</td>\n",
       "</tr>\n",
       "<tr>\n",
       "  <th>TV</th>        <td>    0.0449</td> <td>    0.002</td> <td>   27.655</td> <td> 0.000</td> <td>    0.042</td> <td>    0.048</td>\n",
       "</tr>\n",
       "<tr>\n",
       "  <th>Radio</th>     <td>    0.1821</td> <td>    0.009</td> <td>   19.542</td> <td> 0.000</td> <td>    0.164</td> <td>    0.201</td>\n",
       "</tr>\n",
       "</table>\n",
       "<table class=\"simpletable\">\n",
       "<tr>\n",
       "  <th>Omnibus:</th>       <td>56.542</td> <th>  Durbin-Watson:     </th> <td>   2.101</td>\n",
       "</tr>\n",
       "<tr>\n",
       "  <th>Prob(Omnibus):</th> <td> 0.000</td> <th>  Jarque-Bera (JB):  </th> <td> 157.648</td>\n",
       "</tr>\n",
       "<tr>\n",
       "  <th>Skew:</th>          <td>-1.497</td> <th>  Prob(JB):          </th> <td>5.85e-35</td>\n",
       "</tr>\n",
       "<tr>\n",
       "  <th>Kurtosis:</th>      <td> 6.991</td> <th>  Cond. No.          </th> <td>    415.</td>\n",
       "</tr>\n",
       "</table><br/><br/>Notes:<br/>[1] Standard Errors assume that the covariance matrix of the errors is correctly specified."
      ],
      "text/plain": [
       "<class 'statsmodels.iolib.summary.Summary'>\n",
       "\"\"\"\n",
       "                            OLS Regression Results                            \n",
       "==============================================================================\n",
       "Dep. Variable:                  Sales   R-squared:                       0.890\n",
       "Model:                            OLS   Adj. R-squared:                  0.889\n",
       "Method:                 Least Squares   F-statistic:                     603.9\n",
       "Date:                Sun, 02 Jan 2022   Prob (F-statistic):           3.37e-72\n",
       "Time:                        03:05:16   Log-Likelihood:                -297.19\n",
       "No. Observations:                 152   AIC:                             600.4\n",
       "Df Residuals:                     149   BIC:                             609.5\n",
       "Df Model:                           2                                         \n",
       "Covariance Type:            nonrobust                                         \n",
       "==============================================================================\n",
       "                 coef    std err          t      P>|t|      [0.025      0.975]\n",
       "------------------------------------------------------------------------------\n",
       "Intercept      3.1971      0.339      9.422      0.000       2.527       3.868\n",
       "TV             0.0449      0.002     27.655      0.000       0.042       0.048\n",
       "Radio          0.1821      0.009     19.542      0.000       0.164       0.201\n",
       "==============================================================================\n",
       "Omnibus:                       56.542   Durbin-Watson:                   2.101\n",
       "Prob(Omnibus):                  0.000   Jarque-Bera (JB):              157.648\n",
       "Skew:                          -1.497   Prob(JB):                     5.85e-35\n",
       "Kurtosis:                       6.991   Cond. No.                         415.\n",
       "==============================================================================\n",
       "\n",
       "Notes:\n",
       "[1] Standard Errors assume that the covariance matrix of the errors is correctly specified.\n",
       "\"\"\""
      ]
     },
     "execution_count": 89,
     "metadata": {},
     "output_type": "execute_result"
    }
   ],
   "source": [
    "lm.summary() # Inspeccionamos los resultados"
   ]
  },
  {
   "cell_type": "code",
   "execution_count": 90,
   "id": "90245e99",
   "metadata": {},
   "outputs": [
    {
     "data": {
      "text/plain": [
       "12     10.656921\n",
       "18     10.034436\n",
       "19     14.156818\n",
       "29      9.277707\n",
       "33     18.752923\n",
       "39     20.289839\n",
       "40     16.341434\n",
       "44      9.003334\n",
       "54     20.225471\n",
       "58     21.685522\n",
       "60      5.961048\n",
       "62     16.753707\n",
       "68     18.853885\n",
       "69     20.916587\n",
       "73     10.039384\n",
       "74     17.249223\n",
       "77     13.792439\n",
       "78      8.884579\n",
       "81     14.700002\n",
       "83     14.369358\n",
       "84     20.604660\n",
       "85     15.214025\n",
       "86     11.627726\n",
       "93     21.098481\n",
       "103    14.757753\n",
       "114    15.227807\n",
       "115    12.939777\n",
       "120    14.415827\n",
       "123    15.019975\n",
       "126    10.631283\n",
       "128    22.002376\n",
       "131    15.620781\n",
       "132     8.527429\n",
       "138     9.842664\n",
       "139    19.485709\n",
       "141    18.332440\n",
       "153    18.110788\n",
       "154    15.463523\n",
       "155     5.493528\n",
       "160    14.230889\n",
       "164    11.131204\n",
       "171    14.381976\n",
       "174    13.792041\n",
       "175    24.522964\n",
       "177    12.251918\n",
       "181    13.981340\n",
       "191     8.550490\n",
       "195     5.584364\n",
       "dtype: float64"
      ]
     },
     "execution_count": 90,
     "metadata": {},
     "output_type": "execute_result"
    }
   ],
   "source": [
    "# Validamos nuestro modelo con el conjunto de testing\n",
    "pred = lm.predict(testing)\n",
    "pred"
   ]
  },
  {
   "cell_type": "code",
   "execution_count": 91,
   "id": "f4687e4c",
   "metadata": {},
   "outputs": [
    {
     "data": {
      "text/plain": [
       "115.52146376954607"
      ]
     },
     "execution_count": 91,
     "metadata": {},
     "output_type": "execute_result"
    }
   ],
   "source": [
    "# Suma de los cuadrados de la regresión\n",
    "SSD = sum((testing[\"Sales\"] - pred)**2)\n",
    "SSD"
   ]
  },
  {
   "cell_type": "code",
   "execution_count": 92,
   "id": "06e0ceaa",
   "metadata": {},
   "outputs": [
    {
     "data": {
      "text/plain": [
       "1.6022308320973124"
      ]
     },
     "execution_count": 92,
     "metadata": {},
     "output_type": "execute_result"
    }
   ],
   "source": [
    "# Error estándar de los residuo\n",
    "RSE = np.sqrt(SSD/(len(testing)-2-1))\n",
    "RSE # Obtenemos la desviación promedio de los puntos estimados"
   ]
  },
  {
   "cell_type": "code",
   "execution_count": 93,
   "id": "3f1c41b6",
   "metadata": {},
   "outputs": [
    {
     "data": {
      "text/plain": [
       "14.445833333333335"
      ]
     },
     "execution_count": 93,
     "metadata": {},
     "output_type": "execute_result"
    }
   ],
   "source": [
    "# Promedio de las ventas\n",
    "sales_mean = np.mean(testing[\"Sales\"])\n",
    "sales_mean"
   ]
  },
  {
   "cell_type": "code",
   "execution_count": 94,
   "id": "1333f0a0",
   "metadata": {},
   "outputs": [
    {
     "data": {
      "text/plain": [
       "0.11091300827901787"
      ]
     },
     "execution_count": 94,
     "metadata": {},
     "output_type": "execute_result"
    }
   ],
   "source": [
    "# Error obtenido en el modelo\n",
    "error = RSE/sales_mean\n",
    "error"
   ]
  },
  {
   "cell_type": "markdown",
   "id": "fa12f79a",
   "metadata": {},
   "source": [
    "### Scikit-learn para regresión lineal"
   ]
  },
  {
   "cell_type": "code",
   "execution_count": 96,
   "id": "d4d5e151",
   "metadata": {},
   "outputs": [],
   "source": [
    "#----- Incluímos las librerías a emplear -----\n",
    "import numpy as np\n",
    "import pandas as pd\n",
    "\n",
    "from sklearn.feature_selection import RFE\n",
    "from sklearn.svm import SVR"
   ]
  },
  {
   "cell_type": "code",
   "execution_count": 97,
   "id": "20cb0dfc",
   "metadata": {},
   "outputs": [
    {
     "data": {
      "text/html": [
       "<div>\n",
       "<style scoped>\n",
       "    .dataframe tbody tr th:only-of-type {\n",
       "        vertical-align: middle;\n",
       "    }\n",
       "\n",
       "    .dataframe tbody tr th {\n",
       "        vertical-align: top;\n",
       "    }\n",
       "\n",
       "    .dataframe thead th {\n",
       "        text-align: right;\n",
       "    }\n",
       "</style>\n",
       "<table border=\"1\" class=\"dataframe\">\n",
       "  <thead>\n",
       "    <tr style=\"text-align: right;\">\n",
       "      <th></th>\n",
       "      <th>TV</th>\n",
       "      <th>Radio</th>\n",
       "      <th>Newspaper</th>\n",
       "      <th>Sales</th>\n",
       "    </tr>\n",
       "  </thead>\n",
       "  <tbody>\n",
       "    <tr>\n",
       "      <th>0</th>\n",
       "      <td>230.1</td>\n",
       "      <td>37.8</td>\n",
       "      <td>69.2</td>\n",
       "      <td>22.1</td>\n",
       "    </tr>\n",
       "    <tr>\n",
       "      <th>1</th>\n",
       "      <td>44.5</td>\n",
       "      <td>39.3</td>\n",
       "      <td>45.1</td>\n",
       "      <td>10.4</td>\n",
       "    </tr>\n",
       "    <tr>\n",
       "      <th>2</th>\n",
       "      <td>17.2</td>\n",
       "      <td>45.9</td>\n",
       "      <td>69.3</td>\n",
       "      <td>9.3</td>\n",
       "    </tr>\n",
       "    <tr>\n",
       "      <th>3</th>\n",
       "      <td>151.5</td>\n",
       "      <td>41.3</td>\n",
       "      <td>58.5</td>\n",
       "      <td>18.5</td>\n",
       "    </tr>\n",
       "    <tr>\n",
       "      <th>4</th>\n",
       "      <td>180.8</td>\n",
       "      <td>10.8</td>\n",
       "      <td>58.4</td>\n",
       "      <td>12.9</td>\n",
       "    </tr>\n",
       "  </tbody>\n",
       "</table>\n",
       "</div>"
      ],
      "text/plain": [
       "      TV  Radio  Newspaper  Sales\n",
       "0  230.1   37.8       69.2   22.1\n",
       "1   44.5   39.3       45.1   10.4\n",
       "2   17.2   45.9       69.3    9.3\n",
       "3  151.5   41.3       58.5   18.5\n",
       "4  180.8   10.8       58.4   12.9"
      ]
     },
     "execution_count": 97,
     "metadata": {},
     "output_type": "execute_result"
    }
   ],
   "source": [
    "#----- Cargamos y visualizamos el dataframe -----\n",
    "data = pd.read_csv(r\"D:\\Curso-Jupyter-Notebook\\MachineLearning\\datasets\\Advertising.csv\")\n",
    "data.head()"
   ]
  },
  {
   "cell_type": "code",
   "execution_count": 98,
   "id": "3cd9befb",
   "metadata": {},
   "outputs": [],
   "source": [
    "# Extraemos las columnas para nuestra variable predictiva\n",
    "feature_cols = [\"TV\", \"Radio\", \"Newspaper\"]"
   ]
  },
  {
   "cell_type": "code",
   "execution_count": 99,
   "id": "a2b28865",
   "metadata": {},
   "outputs": [],
   "source": [
    "# Variables de nuestro modelo\n",
    "X = data[feature_cols]\n",
    "Y = data[\"Sales\"]"
   ]
  },
  {
   "cell_type": "code",
   "execution_count": 100,
   "id": "7fa6ccc1",
   "metadata": {},
   "outputs": [],
   "source": [
    "estimator = SVR(kernel = \"linear\") # Modelo de ML a emplear\n",
    "# Implementamos los estimadores para el modelo\n",
    "selector = RFE(estimator, n_features_to_select = 2, step = 1)\n",
    "selector = selector.fit(X, Y) # Creamos el modelo"
   ]
  },
  {
   "cell_type": "code",
   "execution_count": 101,
   "id": "a67b5866",
   "metadata": {},
   "outputs": [
    {
     "data": {
      "text/plain": [
       "array([ True,  True, False])"
      ]
     },
     "execution_count": 101,
     "metadata": {},
     "output_type": "execute_result"
    }
   ],
   "source": [
    "# Nuestro modelo aceptó TV y Radio, pero rechazó Newspaper\n",
    "selector.support_"
   ]
  },
  {
   "cell_type": "code",
   "execution_count": 102,
   "id": "57937f1f",
   "metadata": {},
   "outputs": [],
   "source": [
    "# Importamos directamente el modelo de Regresión lineal\n",
    "from sklearn.linear_model import LinearRegression"
   ]
  },
  {
   "cell_type": "code",
   "execution_count": 103,
   "id": "72dccc49",
   "metadata": {},
   "outputs": [],
   "source": [
    "# Tomamos nuestras variables predictores\n",
    "X_pred = X[[\"TV\", \"Radio\"]]"
   ]
  },
  {
   "cell_type": "code",
   "execution_count": 104,
   "id": "cbd79347",
   "metadata": {},
   "outputs": [
    {
     "data": {
      "text/plain": [
       "LinearRegression()"
      ]
     },
     "execution_count": 104,
     "metadata": {},
     "output_type": "execute_result"
    }
   ],
   "source": [
    "# Creamos el modelo de regresión lineal\n",
    "lm = LinearRegression()\n",
    "lm.fit(X_pred, Y)"
   ]
  },
  {
   "cell_type": "code",
   "execution_count": 105,
   "id": "9782ea25",
   "metadata": {},
   "outputs": [
    {
     "data": {
      "text/plain": [
       "2.9210999124051362"
      ]
     },
     "execution_count": 105,
     "metadata": {},
     "output_type": "execute_result"
    }
   ],
   "source": [
    "lm.intercept_"
   ]
  },
  {
   "cell_type": "code",
   "execution_count": 106,
   "id": "c62ec306",
   "metadata": {},
   "outputs": [
    {
     "data": {
      "text/plain": [
       "array([0.04575482, 0.18799423])"
      ]
     },
     "execution_count": 106,
     "metadata": {},
     "output_type": "execute_result"
    }
   ],
   "source": [
    "lm.coef_"
   ]
  },
  {
   "cell_type": "code",
   "execution_count": 107,
   "id": "238d5a5c",
   "metadata": {},
   "outputs": [
    {
     "data": {
      "text/plain": [
       "0.8971942610828957"
      ]
     },
     "execution_count": 107,
     "metadata": {},
     "output_type": "execute_result"
    }
   ],
   "source": [
    "# Eficiencia del modelo\n",
    "lm.score(X_pred, Y)"
   ]
  },
  {
   "cell_type": "markdown",
   "id": "e4c98b1c",
   "metadata": {},
   "source": [
    "### Relaciones no lineales"
   ]
  },
  {
   "cell_type": "code",
   "execution_count": 108,
   "id": "f8a5c957",
   "metadata": {},
   "outputs": [],
   "source": [
    "#----- Incluímos las librerías a emplear -----\n",
    "import pandas as pd\n",
    "import numpy as np\n",
    "import matplotlib.pyplot as plt"
   ]
  },
  {
   "cell_type": "code",
   "execution_count": 109,
   "id": "0b522562",
   "metadata": {},
   "outputs": [
    {
     "data": {
      "text/html": [
       "<div>\n",
       "<style scoped>\n",
       "    .dataframe tbody tr th:only-of-type {\n",
       "        vertical-align: middle;\n",
       "    }\n",
       "\n",
       "    .dataframe tbody tr th {\n",
       "        vertical-align: top;\n",
       "    }\n",
       "\n",
       "    .dataframe thead th {\n",
       "        text-align: right;\n",
       "    }\n",
       "</style>\n",
       "<table border=\"1\" class=\"dataframe\">\n",
       "  <thead>\n",
       "    <tr style=\"text-align: right;\">\n",
       "      <th></th>\n",
       "      <th>mpg</th>\n",
       "      <th>cylinders</th>\n",
       "      <th>displacement</th>\n",
       "      <th>horsepower</th>\n",
       "      <th>weight</th>\n",
       "      <th>acceleration</th>\n",
       "      <th>model year</th>\n",
       "      <th>origin</th>\n",
       "      <th>car name</th>\n",
       "    </tr>\n",
       "  </thead>\n",
       "  <tbody>\n",
       "    <tr>\n",
       "      <th>0</th>\n",
       "      <td>18.0</td>\n",
       "      <td>8</td>\n",
       "      <td>307.0</td>\n",
       "      <td>130.0</td>\n",
       "      <td>3504</td>\n",
       "      <td>12.0</td>\n",
       "      <td>70</td>\n",
       "      <td>1</td>\n",
       "      <td>chevrolet chevelle malibu</td>\n",
       "    </tr>\n",
       "    <tr>\n",
       "      <th>1</th>\n",
       "      <td>15.0</td>\n",
       "      <td>8</td>\n",
       "      <td>350.0</td>\n",
       "      <td>165.0</td>\n",
       "      <td>3693</td>\n",
       "      <td>11.5</td>\n",
       "      <td>70</td>\n",
       "      <td>1</td>\n",
       "      <td>buick skylark 320</td>\n",
       "    </tr>\n",
       "    <tr>\n",
       "      <th>2</th>\n",
       "      <td>18.0</td>\n",
       "      <td>8</td>\n",
       "      <td>318.0</td>\n",
       "      <td>150.0</td>\n",
       "      <td>3436</td>\n",
       "      <td>11.0</td>\n",
       "      <td>70</td>\n",
       "      <td>1</td>\n",
       "      <td>plymouth satellite</td>\n",
       "    </tr>\n",
       "    <tr>\n",
       "      <th>3</th>\n",
       "      <td>16.0</td>\n",
       "      <td>8</td>\n",
       "      <td>304.0</td>\n",
       "      <td>150.0</td>\n",
       "      <td>3433</td>\n",
       "      <td>12.0</td>\n",
       "      <td>70</td>\n",
       "      <td>1</td>\n",
       "      <td>amc rebel sst</td>\n",
       "    </tr>\n",
       "    <tr>\n",
       "      <th>4</th>\n",
       "      <td>17.0</td>\n",
       "      <td>8</td>\n",
       "      <td>302.0</td>\n",
       "      <td>140.0</td>\n",
       "      <td>3449</td>\n",
       "      <td>10.5</td>\n",
       "      <td>70</td>\n",
       "      <td>1</td>\n",
       "      <td>ford torino</td>\n",
       "    </tr>\n",
       "  </tbody>\n",
       "</table>\n",
       "</div>"
      ],
      "text/plain": [
       "    mpg  cylinders  displacement  horsepower  weight  acceleration  \\\n",
       "0  18.0          8         307.0       130.0    3504          12.0   \n",
       "1  15.0          8         350.0       165.0    3693          11.5   \n",
       "2  18.0          8         318.0       150.0    3436          11.0   \n",
       "3  16.0          8         304.0       150.0    3433          12.0   \n",
       "4  17.0          8         302.0       140.0    3449          10.5   \n",
       "\n",
       "   model year  origin                   car name  \n",
       "0          70       1  chevrolet chevelle malibu  \n",
       "1          70       1          buick skylark 320  \n",
       "2          70       1         plymouth satellite  \n",
       "3          70       1              amc rebel sst  \n",
       "4          70       1                ford torino  "
      ]
     },
     "execution_count": 109,
     "metadata": {},
     "output_type": "execute_result"
    }
   ],
   "source": [
    "#----- Cargamos y visualizamos el dataframe -----\n",
    "data = pd.read_csv(r\"D:\\Curso-Jupyter-Notebook\\MachineLearning\\datasets\\auto-mpg.csv\")\n",
    "data.head()"
   ]
  },
  {
   "cell_type": "code",
   "execution_count": 110,
   "id": "c0242790",
   "metadata": {},
   "outputs": [
    {
     "data": {
      "text/plain": [
       "(406, 9)"
      ]
     },
     "execution_count": 110,
     "metadata": {},
     "output_type": "execute_result"
    }
   ],
   "source": [
    "# Tamaño del dataframe\n",
    "data.shape"
   ]
  },
  {
   "cell_type": "code",
   "execution_count": 111,
   "id": "b8213608",
   "metadata": {},
   "outputs": [
    {
     "data": {
      "text/plain": [
       "Text(0.5, 1.0, 'CV vs MPG')"
      ]
     },
     "execution_count": 111,
     "metadata": {},
     "output_type": "execute_result"
    },
    {
     "data": {
      "image/png": "[encoded data removed]",
      "text/plain": [
       "<Figure size 432x288 with 1 Axes>"
      ]
     },
     "metadata": {
      "needs_background": "light"
     },
     "output_type": "display_data"
    }
   ],
   "source": [
    "# Graficamos Horsepower vs MPG\n",
    "%matplotlib inline\n",
    "\n",
    "data[\"mpg\"] = data[\"mpg\"].dropna()\n",
    "data[\"horsepower\"] = data[\"horsepower\"].dropna()\n",
    "\n",
    "plt.plot(data[\"horsepower\"], data[\"mpg\"], \"ro\")\n",
    "plt.xlabel(\"Caballos de fuerza\")\n",
    "plt.ylabel(\"Consumo (millas por galeón)\")\n",
    "plt.title(\"CV vs MPG\")\n",
    "\n",
    "# dropna permite eliminar las filas con valores nulos"
   ]
  },
  {
   "cell_type": "markdown",
   "id": "a2a6b975",
   "metadata": {},
   "source": [
    "#### Modelo de regresión lineal\n",
    "\n",
    " MPG = a + b*Horsepower"
   ]
  },
  {
   "cell_type": "code",
   "execution_count": 112,
   "id": "22ee24e5",
   "metadata": {},
   "outputs": [],
   "source": [
    "# fillna: reemplaza los NAs con el promedio del array\n",
    "X = data[\"horsepower\"].fillna(data[\"horsepower\"].mean()).to_numpy()\n",
    "Y = data[\"mpg\"].fillna(data[\"mpg\"].mean())\n",
    "# Necesitamos mínimo 2 dimensiones para trabajar con LinearRegression\n",
    "X_data = X[:, np.newaxis]"
   ]
  },
  {
   "cell_type": "code",
   "execution_count": 113,
   "id": "bcb49ebf",
   "metadata": {},
   "outputs": [
    {
     "data": {
      "text/plain": [
       "LinearRegression()"
      ]
     },
     "execution_count": 113,
     "metadata": {},
     "output_type": "execute_result"
    }
   ],
   "source": [
    "# Creamos el modelo de regresión lineal\n",
    "lm = LinearRegression()\n",
    "lm.fit(X_data, Y)"
   ]
  },
  {
   "cell_type": "code",
   "execution_count": 114,
   "id": "c70615d3",
   "metadata": {},
   "outputs": [
    {
     "data": {
      "text/plain": [
       "numpy.ndarray"
      ]
     },
     "execution_count": 114,
     "metadata": {},
     "output_type": "execute_result"
    }
   ],
   "source": [
    "# Verificamos el tipo de dato creado\n",
    "type(X)"
   ]
  },
  {
   "cell_type": "code",
   "execution_count": 115,
   "id": "8bd52094",
   "metadata": {},
   "outputs": [
    {
     "data": {
      "text/plain": [
       "numpy.ndarray"
      ]
     },
     "execution_count": 115,
     "metadata": {},
     "output_type": "execute_result"
    }
   ],
   "source": [
    "# Verificamos el tipo de dato creado\n",
    "type(X_data)"
   ]
  },
  {
   "cell_type": "code",
   "execution_count": 116,
   "id": "98eac1cc",
   "metadata": {},
   "outputs": [
    {
     "data": {
      "text/plain": [
       "[<matplotlib.lines.Line2D at 0x2d2b75de588>]"
      ]
     },
     "execution_count": 116,
     "metadata": {},
     "output_type": "execute_result"
    },
    {
     "data": {
      "image/png": "[encoded data removed]",
      "text/plain": [
       "<Figure size 432x288 with 1 Axes>"
      ]
     },
     "metadata": {
      "needs_background": "light"
     },
     "output_type": "display_data"
    }
   ],
   "source": [
    "# Graficamos los datos y la recta de regresión lineal\n",
    "%matplotlib inline\n",
    "plt.plot(X, Y, \"ro\")\n",
    "plt.plot(X, lm.predict(X_data), color = \"blue\")"
   ]
  },
  {
   "cell_type": "code",
   "execution_count": 117,
   "id": "b8d77010",
   "metadata": {},
   "outputs": [
    {
     "data": {
      "text/plain": [
       "0.5746533406450252"
      ]
     },
     "execution_count": 117,
     "metadata": {},
     "output_type": "execute_result"
    }
   ],
   "source": [
    "# Eficiencia de nuestro modelo\n",
    "lm.score(X_data, Y)"
   ]
  },
  {
   "cell_type": "code",
   "execution_count": 118,
   "id": "daa42ab2",
   "metadata": {},
   "outputs": [
    {
     "data": {
      "text/plain": [
       "(10315.751960060918,\n",
       " 5.046879480825511,\n",
       " 23.514572864321607,\n",
       " 0.21462773361633472)"
      ]
     },
     "execution_count": 118,
     "metadata": {},
     "output_type": "execute_result"
    }
   ],
   "source": [
    "# Principales características del modelo\n",
    "SSD = np.sum((Y - lm.predict(X_data))**2)\n",
    "RSE = np.sqrt(SSD/(len(X_data) - 1))\n",
    "y_mean = np.mean(Y)\n",
    "error = RSE/y_mean\n",
    "SSD, RSE, y_mean, error"
   ]
  },
  {
   "cell_type": "markdown",
   "id": "103c3782",
   "metadata": {},
   "source": [
    "#### Modelo de regresión cuadrático\n",
    "MPG = a + b * Horsepower^2"
   ]
  },
  {
   "cell_type": "code",
   "execution_count": 119,
   "id": "ccbd9941",
   "metadata": {},
   "outputs": [],
   "source": [
    "# Elevamos al cuadrado a nuestra variable predictora\n",
    "X_data = X**2\n",
    "X_data = np.asarray(X_data)\n",
    "X_data = X_data[:, np.newaxis]"
   ]
  },
  {
   "cell_type": "code",
   "execution_count": 120,
   "id": "bc420f0b",
   "metadata": {},
   "outputs": [
    {
     "data": {
      "text/plain": [
       "LinearRegression()"
      ]
     },
     "execution_count": 120,
     "metadata": {},
     "output_type": "execute_result"
    }
   ],
   "source": [
    "# Creamos el modelo de \"Regresión lineal\"\n",
    "lm = LinearRegression()\n",
    "lm.fit(X_data, Y)"
   ]
  },
  {
   "cell_type": "code",
   "execution_count": 121,
   "id": "1e4ab1ac",
   "metadata": {},
   "outputs": [
    {
     "data": {
      "text/plain": [
       "0.4849887034823205"
      ]
     },
     "execution_count": 121,
     "metadata": {},
     "output_type": "execute_result"
    }
   ],
   "source": [
    "# Eficiencia del modelo\n",
    "lm.score(X_data, Y)"
   ]
  },
  {
   "cell_type": "code",
   "execution_count": 122,
   "id": "833834c3",
   "metadata": {},
   "outputs": [
    {
     "data": {
      "text/plain": [
       "(12490.350340501926,\n",
       " 5.553410772769817,\n",
       " 23.514572864321607,\n",
       " 0.23616889852998113)"
      ]
     },
     "execution_count": 122,
     "metadata": {},
     "output_type": "execute_result"
    }
   ],
   "source": [
    "# Principales características del modelo\n",
    "SSD = np.sum((Y - lm.predict(X_data))**2)\n",
    "RSE = np.sqrt(SSD/(len(X_data) - 1))\n",
    "y_mean = np.mean(Y)\n",
    "error = RSE/y_mean\n",
    "SSD, RSE, y_mean, error"
   ]
  },
  {
   "cell_type": "markdown",
   "id": "8cb0cb5b",
   "metadata": {},
   "source": [
    "#### Modelo de regresión lineal y cuadrático\n",
    "MPG = a + b * Horsepower + c * Horsepower^2"
   ]
  },
  {
   "cell_type": "code",
   "execution_count": 74,
   "id": "ca63fff8",
   "metadata": {},
   "outputs": [],
   "source": [
    "#----- Incluímos las librerías a emplear -----\n",
    "from sklearn.preprocessing import PolynomialFeatures\n",
    "from sklearn import linear_model"
   ]
  },
  {
   "cell_type": "code",
   "execution_count": 75,
   "id": "06d61b40",
   "metadata": {},
   "outputs": [],
   "source": [
    "# Declaramos un polinomio de grado 2\n",
    "poly = PolynomialFeatures(degree = 2)"
   ]
  },
  {
   "cell_type": "code",
   "execution_count": 76,
   "id": "a2b886a7",
   "metadata": {},
   "outputs": [],
   "source": [
    "# Transformación lineal a partir de los datos originales (X)\n",
    "X_data = poly.fit_transform(X[:, np.newaxis])"
   ]
  },
  {
   "cell_type": "code",
   "execution_count": 77,
   "id": "fdee305d",
   "metadata": {},
   "outputs": [
    {
     "data": {
      "text/plain": [
       "LinearRegression()"
      ]
     },
     "execution_count": 77,
     "metadata": {},
     "output_type": "execute_result"
    }
   ],
   "source": [
    "# Creamos nuestro modelo\n",
    "lm = linear_model.LinearRegression()\n",
    "lm.fit(X_data, Y)"
   ]
  },
  {
   "cell_type": "code",
   "execution_count": 78,
   "id": "617f638f",
   "metadata": {},
   "outputs": [
    {
     "data": {
      "text/plain": [
       "0.6439066584257469"
      ]
     },
     "execution_count": 78,
     "metadata": {},
     "output_type": "execute_result"
    }
   ],
   "source": [
    "# Eficiencia del modelo\n",
    "lm.score(X_data, Y)"
   ]
  },
  {
   "cell_type": "code",
   "execution_count": 79,
   "id": "c49c1c68",
   "metadata": {},
   "outputs": [
    {
     "data": {
      "text/plain": [
       "55.026192447081144"
      ]
     },
     "execution_count": 79,
     "metadata": {},
     "output_type": "execute_result"
    }
   ],
   "source": [
    "lm.intercept_"
   ]
  },
  {
   "cell_type": "code",
   "execution_count": 80,
   "id": "96b973e4",
   "metadata": {},
   "outputs": [
    {
     "data": {
      "text/plain": [
       "array([ 0.        , -0.43404318,  0.00112615])"
      ]
     },
     "execution_count": 80,
     "metadata": {},
     "output_type": "execute_result"
    }
   ],
   "source": [
    "lm.coef_"
   ]
  },
  {
   "cell_type": "code",
   "execution_count": 81,
   "id": "463cd9a1",
   "metadata": {},
   "outputs": [
    {
     "data": {
      "text/plain": [
       "(8636.180643524502, 4.61778115803654, 23.514572864321607, 0.196379546619069)"
      ]
     },
     "execution_count": 81,
     "metadata": {},
     "output_type": "execute_result"
    }
   ],
   "source": [
    "# Principales características del modelo\n",
    "SSD = np.sum((Y - lm.predict(X_data))**2)\n",
    "RSE = np.sqrt(SSD/(len(X_data) - 1))\n",
    "y_mean = np.mean(Y)\n",
    "error = RSE/y_mean\n",
    "SSD, RSE, y_mean, error"
   ]
  }
 ],
 "metadata": {
  "kernelspec": {
   "display_name": "Python 3 (ipykernel)",
   "language": "python",
   "name": "python3"
  },
  "language_info": {
   "codemirror_mode": {
    "name": "ipython",
    "version": 3
   },
   "file_extension": ".py",
   "mimetype": "text/x-python",
   "name": "python",
   "nbconvert_exporter": "python",
   "pygments_lexer": "ipython3",
   "version": "3.7.11"
  }
 },
 "nbformat": 4,
 "nbformat_minor": 5
}
