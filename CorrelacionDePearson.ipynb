{
 "cells": [
  {
   "cell_type": "markdown",
   "id": "e8c345ec",
   "metadata": {},
   "source": [
    "### INTRODUCCIÓN A LA ESTADÍSTICA - CORRELACIÓN"
   ]
  },
  {
   "cell_type": "code",
   "execution_count": 1,
   "id": "d3f55e1d",
   "metadata": {},
   "outputs": [],
   "source": [
    "# Importamos las librerías a emplear\n",
    "import pandas as pd\n",
    "import numpy as np\n",
    "import matplotlib.pyplot as plt\n",
    "\n",
    "# Temas de Jupyter para fondo negro\n",
    "#from jupyterthemes import jtplot\n",
    "#jtplot.style(theme='onedork')\n",
    "\n",
    "# Por si no se nos autocompleta el código\n",
    "%config IPCompleter.greedy=True"
   ]
  },
  {
   "cell_type": "code",
   "execution_count": 2,
   "id": "962af789",
   "metadata": {},
   "outputs": [
    {
     "data": {
      "text/html": [
       "<div>\n",
       "<style scoped>\n",
       "    .dataframe tbody tr th:only-of-type {\n",
       "        vertical-align: middle;\n",
       "    }\n",
       "\n",
       "    .dataframe tbody tr th {\n",
       "        vertical-align: top;\n",
       "    }\n",
       "\n",
       "    .dataframe thead th {\n",
       "        text-align: right;\n",
       "    }\n",
       "</style>\n",
       "<table border=\"1\" class=\"dataframe\">\n",
       "  <thead>\n",
       "    <tr style=\"text-align: right;\">\n",
       "      <th></th>\n",
       "      <th>TV</th>\n",
       "      <th>Radio</th>\n",
       "      <th>Newspaper</th>\n",
       "      <th>Sales</th>\n",
       "    </tr>\n",
       "  </thead>\n",
       "  <tbody>\n",
       "    <tr>\n",
       "      <th>0</th>\n",
       "      <td>230.1</td>\n",
       "      <td>37.8</td>\n",
       "      <td>69.2</td>\n",
       "      <td>22.1</td>\n",
       "    </tr>\n",
       "    <tr>\n",
       "      <th>1</th>\n",
       "      <td>44.5</td>\n",
       "      <td>39.3</td>\n",
       "      <td>45.1</td>\n",
       "      <td>10.4</td>\n",
       "    </tr>\n",
       "    <tr>\n",
       "      <th>2</th>\n",
       "      <td>17.2</td>\n",
       "      <td>45.9</td>\n",
       "      <td>69.3</td>\n",
       "      <td>9.3</td>\n",
       "    </tr>\n",
       "    <tr>\n",
       "      <th>3</th>\n",
       "      <td>151.5</td>\n",
       "      <td>41.3</td>\n",
       "      <td>58.5</td>\n",
       "      <td>18.5</td>\n",
       "    </tr>\n",
       "    <tr>\n",
       "      <th>4</th>\n",
       "      <td>180.8</td>\n",
       "      <td>10.8</td>\n",
       "      <td>58.4</td>\n",
       "      <td>12.9</td>\n",
       "    </tr>\n",
       "  </tbody>\n",
       "</table>\n",
       "</div>"
      ],
      "text/plain": [
       "      TV  Radio  Newspaper  Sales\n",
       "0  230.1   37.8       69.2   22.1\n",
       "1   44.5   39.3       45.1   10.4\n",
       "2   17.2   45.9       69.3    9.3\n",
       "3  151.5   41.3       58.5   18.5\n",
       "4  180.8   10.8       58.4   12.9"
      ]
     },
     "execution_count": 2,
     "metadata": {},
     "output_type": "execute_result"
    }
   ],
   "source": [
    "# Cargamos el archivo .csv\n",
    "data = pd.read_csv(r\"D:\\Curso-Jupyter-Notebook\\GitHub\\python-ml-course\\datasets\\ads\\Advertising.csv\")\n",
    "data.head() # Visualizamos los primeros 5 datos"
   ]
  },
  {
   "cell_type": "code",
   "execution_count": 3,
   "id": "de20bee4",
   "metadata": {},
   "outputs": [
    {
     "data": {
      "text/plain": [
       "200"
      ]
     },
     "execution_count": 3,
     "metadata": {},
     "output_type": "execute_result"
    }
   ],
   "source": [
    "len(data) # Tamaño del dataframe"
   ]
  },
  {
   "cell_type": "markdown",
   "id": "4ff37004",
   "metadata": {},
   "source": [
    "#### Coeficiente de correlación de Pearson ¿Qué tan buena es la relación entre variables?"
   ]
  },
  {
   "cell_type": "code",
   "execution_count": 4,
   "id": "131a4ee4",
   "metadata": {},
   "outputs": [],
   "source": [
    "def corr_pearson(df, var1, var2):\n",
    "    # Numerador\n",
    "    df[\"corrn\"] = (data[var1] - np.mean(data[var1]))*(data[var2] - np.mean(data[var2]))\n",
    "\n",
    "    # Denominador\n",
    "    data[\"corrd1\"] = (data[var1] - np.mean(data[var1]))**2\n",
    "    data[\"corrd2\"] = (data[var2] - np.mean(data[var2]))**2\n",
    "\n",
    "    # Coeficiente de correlación de Pearson\n",
    "    r = (sum(data[\"corrn\"]))/(np.sqrt(sum(data[\"corrd1\"]) * sum(data[\"corrd2\"])))\n",
    "    return r"
   ]
  },
  {
   "cell_type": "code",
   "execution_count": 5,
   "id": "76b4d891",
   "metadata": {},
   "outputs": [
    {
     "data": {
      "text/plain": [
       "0.782224424861606"
      ]
     },
     "execution_count": 5,
     "metadata": {},
     "output_type": "execute_result"
    }
   ],
   "source": [
    "corr_pearson(data, \"TV\", \"Sales\")\n",
    "# Obtenemos una correlación de 0.78 (valor entre 0.5 y 1)\n",
    "# Cuanto más se gaste en TV también se aumentarán las ventas.\n",
    "# El coste de TV es positivo para las ventas"
   ]
  },
  {
   "cell_type": "code",
   "execution_count": 6,
   "id": "dc97de60",
   "metadata": {},
   "outputs": [
    {
     "data": {
      "text/plain": [
       "array(['TV', 'Radio', 'Newspaper', 'Sales'], dtype=object)"
      ]
     },
     "execution_count": 6,
     "metadata": {},
     "output_type": "execute_result"
    }
   ],
   "source": [
    "# Cargamos nuevamente el archivo .csv\n",
    "data = pd.read_csv(r\"D:\\Curso-Jupyter-Notebook\\GitHub\\python-ml-course\\datasets\\ads\\Advertising.csv\")\n",
    "cols = data.columns.values\n",
    "cols"
   ]
  },
  {
   "cell_type": "code",
   "execution_count": 7,
   "id": "b6dc1523",
   "metadata": {},
   "outputs": [
    {
     "name": "stdout",
     "output_type": "stream",
     "text": [
      "TV - TV: 1.0\n",
      "TV - Radio: 0.05480866446583006\n",
      "TV - Newspaper: 0.056647874965056993\n",
      "TV - Sales: 0.782224424861606\n",
      "Radio - TV: 0.05480866446583006\n",
      "Radio - Radio: 1.0\n",
      "Radio - Newspaper: 0.35410375076117545\n",
      "Radio - Sales: 0.576222574571055\n",
      "Newspaper - TV: 0.056647874965056993\n",
      "Newspaper - Radio: 0.35410375076117545\n",
      "Newspaper - Newspaper: 1.0\n",
      "Newspaper - Sales: 0.22829902637616534\n",
      "Sales - TV: 0.782224424861606\n",
      "Sales - Radio: 0.576222574571055\n",
      "Sales - Newspaper: 0.22829902637616534\n",
      "Sales - Sales: 1.0\n"
     ]
    }
   ],
   "source": [
    "# Hallamos la correlación de Pearson entre todas las variables\n",
    "for x in cols:\n",
    "    for y in cols:\n",
    "        print(x + \" - \" + y + \": \" + str(corr_pearson(data, x, y)))"
   ]
  },
  {
   "cell_type": "code",
   "execution_count": 8,
   "id": "7e86991e",
   "metadata": {},
   "outputs": [
    {
     "data": {
      "text/plain": [
       "Text(0.5, 1.0, 'Publicidad en TV vs ventas totales')"
      ]
     },
     "execution_count": 8,
     "metadata": {},
     "output_type": "execute_result"
    },
    {
     "data": {
      "image/png": "[encoded data removed]",
      "text/plain": [
       "<Figure size 432x288 with 1 Axes>"
      ]
     },
     "metadata": {
      "needs_background": "light"
     },
     "output_type": "display_data"
    }
   ],
   "source": [
    "plt.plot(data[\"TV\"], data[\"Sales\"], \"ro\")\n",
    "plt.title(\"Publicidad en TV vs ventas totales\")"
   ]
  },
  {
   "cell_type": "code",
   "execution_count": 9,
   "id": "862822c3",
   "metadata": {},
   "outputs": [
    {
     "data": {
      "text/plain": [
       "Text(0.5, 1.0, 'Publicidad en radio vs ventas totales')"
      ]
     },
     "execution_count": 9,
     "metadata": {},
     "output_type": "execute_result"
    },
    {
     "data": {
      "image/png": "[encoded data removed]",
      "text/plain": [
       "<Figure size 432x288 with 1 Axes>"
      ]
     },
     "metadata": {
      "needs_background": "light"
     },
     "output_type": "display_data"
    }
   ],
   "source": [
    "plt.plot(data[\"Radio\"], data[\"Sales\"], \"bo\")\n",
    "plt.title(\"Publicidad en radio vs ventas totales\")"
   ]
  },
  {
   "cell_type": "code",
   "execution_count": 10,
   "id": "feb771cb",
   "metadata": {},
   "outputs": [
    {
     "data": {
      "text/plain": [
       "Text(0.5, 1.0, 'Publicidad en Newspaper vs ventas totales')"
      ]
     },
     "execution_count": 10,
     "metadata": {},
     "output_type": "execute_result"
    },
    {
     "data": {
      "image/png": "[encoded data removed]",
      "text/plain": [
       "<Figure size 432x288 with 1 Axes>"
      ]
     },
     "metadata": {
      "needs_background": "light"
     },
     "output_type": "display_data"
    }
   ],
   "source": [
    "plt.plot(data[\"Newspaper\"], data[\"Sales\"], \"yo\")\n",
    "plt.title(\"Publicidad en Newspaper vs ventas totales\")"
   ]
  },
  {
   "cell_type": "code",
   "execution_count": 11,
   "id": "3fa731ac",
   "metadata": {},
   "outputs": [
    {
     "data": {
      "text/html": [
       "<div>\n",
       "<style scoped>\n",
       "    .dataframe tbody tr th:only-of-type {\n",
       "        vertical-align: middle;\n",
       "    }\n",
       "\n",
       "    .dataframe tbody tr th {\n",
       "        vertical-align: top;\n",
       "    }\n",
       "\n",
       "    .dataframe thead th {\n",
       "        text-align: right;\n",
       "    }\n",
       "</style>\n",
       "<table border=\"1\" class=\"dataframe\">\n",
       "  <thead>\n",
       "    <tr style=\"text-align: right;\">\n",
       "      <th></th>\n",
       "      <th>TV</th>\n",
       "      <th>Radio</th>\n",
       "      <th>Newspaper</th>\n",
       "      <th>Sales</th>\n",
       "    </tr>\n",
       "  </thead>\n",
       "  <tbody>\n",
       "    <tr>\n",
       "      <th>TV</th>\n",
       "      <td>1.000000</td>\n",
       "      <td>0.054809</td>\n",
       "      <td>0.056648</td>\n",
       "      <td>0.782224</td>\n",
       "    </tr>\n",
       "    <tr>\n",
       "      <th>Radio</th>\n",
       "      <td>0.054809</td>\n",
       "      <td>1.000000</td>\n",
       "      <td>0.354104</td>\n",
       "      <td>0.576223</td>\n",
       "    </tr>\n",
       "    <tr>\n",
       "      <th>Newspaper</th>\n",
       "      <td>0.056648</td>\n",
       "      <td>0.354104</td>\n",
       "      <td>1.000000</td>\n",
       "      <td>0.228299</td>\n",
       "    </tr>\n",
       "    <tr>\n",
       "      <th>Sales</th>\n",
       "      <td>0.782224</td>\n",
       "      <td>0.576223</td>\n",
       "      <td>0.228299</td>\n",
       "      <td>1.000000</td>\n",
       "    </tr>\n",
       "  </tbody>\n",
       "</table>\n",
       "</div>"
      ],
      "text/plain": [
       "                 TV     Radio  Newspaper     Sales\n",
       "TV         1.000000  0.054809   0.056648  0.782224\n",
       "Radio      0.054809  1.000000   0.354104  0.576223\n",
       "Newspaper  0.056648  0.354104   1.000000  0.228299\n",
       "Sales      0.782224  0.576223   0.228299  1.000000"
      ]
     },
     "execution_count": 11,
     "metadata": {},
     "output_type": "execute_result"
    }
   ],
   "source": [
    "# Cargamos nuevamente el archivo .csv\n",
    "data = pd.read_csv(r\"D:\\Curso-Jupyter-Notebook\\GitHub\\python-ml-course\\datasets\\ads\\Advertising.csv\")\n",
    "data.corr() # Hallamos la correlación de las variables directamente"
   ]
  },
  {
   "cell_type": "code",
   "execution_count": 12,
   "id": "0a9c2ff6",
   "metadata": {},
   "outputs": [
    {
     "data": {
      "text/plain": [
       "<matplotlib.image.AxesImage at 0x1bb463fcc08>"
      ]
     },
     "execution_count": 12,
     "metadata": {},
     "output_type": "execute_result"
    },
    {
     "data": {
      "image/png": "[encoded data removed]",
      "text/plain": [
       "<Figure size 288x288 with 1 Axes>"
      ]
     },
     "metadata": {
      "needs_background": "light"
     },
     "output_type": "display_data"
    }
   ],
   "source": [
    "# Visualización de la matriz de correlación\n",
    "plt.matshow(data.corr())\n",
    "# Correlación positiva (cerca a 1) -> colores claros\n",
    "# Correlación negativa (cerca a 0) -> colores oscuros"
   ]
  }
 ],
 "metadata": {
  "kernelspec": {
   "display_name": "Python 3 (ipykernel)",
   "language": "python",
   "name": "python3"
  },
  "language_info": {
   "codemirror_mode": {
    "name": "ipython",
    "version": 3
   },
   "file_extension": ".py",
   "mimetype": "text/x-python",
   "name": "python",
   "nbconvert_exporter": "python",
   "pygments_lexer": "ipython3",
   "version": "3.7.11"
  }
 },
 "nbformat": 4,
 "nbformat_minor": 5
}
